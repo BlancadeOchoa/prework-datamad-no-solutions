{
 "cells": [
  {
   "cell_type": "markdown",
   "metadata": {},
   "source": [
    "# Lyrics\n",
    "## Intro\n",
    "This exercise is simple. You are going to create a code that writes the lyrics of a famous song. **The shorter your code is, the better**. Although it may seem a bit silly, it is important that you learn to automate repetitive tasks or that there are few changes between them.\n",
    "\n",
    "<img src=\"./images/babyshark.jpeg\" width=\"400\">\n",
    "\n",
    "## Song\n",
    "\n",
    "```\n",
    "Baby shark, doo doo doo doo doo doo\n",
    "Baby shark, doo doo doo doo doo doo\n",
    "Baby shark, doo doo doo doo doo doo\n",
    "Baby shark!\n",
    "Mommy shark, doo doo doo doo doo doo\n",
    "Mommy shark, doo doo doo doo doo doo\n",
    "Mommy shark, doo doo doo doo doo doo\n",
    "Mommy shark!\n",
    "Daddy shark, doo doo doo doo doo doo\n",
    "Daddy shark, doo doo doo doo doo doo\n",
    "Daddy shark, doo doo doo doo doo doo\n",
    "Daddy shark!\n",
    "Grandma shark, doo doo doo doo doo doo\n",
    "Grandma shark, doo doo doo doo doo doo\n",
    "Grandma shark, doo doo doo doo doo doo\n",
    "Grandma shark!\n",
    "Grandpa shark, doo doo doo doo doo doo\n",
    "Grandpa shark, doo doo doo doo doo doo\n",
    "Grandpa shark, doo doo doo doo doo doo\n",
    "Grandpa shark!\n",
    "Let's go hunt, doo doo doo doo doo doo\n",
    "Let's go hunt, doo doo doo doo doo doo\n",
    "Let's go hunt, doo doo doo doo doo doo\n",
    "Let's go hunt!\n",
    "Run away,… \n",
    "```\n",
    "\n",
    "\n",
    "## Goals\n",
    "\n",
    "0. Use of string methods: **format()**, **str()**\n",
    "1. Use of **for loop**\n",
    "2. Use of the function **range()**\n",
    "3. print()\n",
    "4. Use of functions\n",
    "5. Open files\n",
    "6. Refactoring\n",
    "\n",
    "## Hints\n",
    "\n",
    "* '\\n' is the character for new line. It must end every string in the third step. \n",
    "\n",
    "\n",
    "## Solution"
   ]
  },
  {
   "cell_type": "code",
   "execution_count": 86,
   "metadata": {},
   "outputs": [],
   "source": [
    "# Variable\n",
    "\n",
    "babyshark1 = '''\n",
    "Baby shark, doo doo doo doo doo doo  \n",
    "Baby shark, doo doo doo doo doo doo  \n",
    "Baby shark, doo doo doo doo doo doo  \n",
    "Baby shark!\n",
    "Mommy shark, doo doo doo doo doo doo  \n",
    "Mommy shark, doo doo doo doo doo doo  \n",
    "Mommy shark, doo doo doo doo doo doo  \n",
    "Mommy shark!\n",
    "Daddy shark, doo doo doo doo doo doo  \n",
    "Daddy shark, doo doo doo doo doo doo  \n",
    "Daddy shark, doo doo doo doo doo doo  \n",
    "Daddy shark!\n",
    "Grandma shark, doo doo doo doo doo doo  \n",
    "Grandma shark, doo doo doo doo doo doo  \n",
    "Grandma shark, doo doo doo doo doo doo  \n",
    "Grandma shark!\n",
    "Grandpa shark, doo doo doo doo doo doo  \n",
    "Grandpa shark, doo doo doo doo doo doo  \n",
    "Grandpa shark, doo doo doo doo doo doo  \n",
    "Grandpa shark!\n",
    "Let's go hunt, doo doo doo doo doo doo  \n",
    "Let's go hunt, doo doo doo doo doo doo  \n",
    "Let's go hunt, doo doo doo doo doo doo  \n",
    "Let's go hunt!\n",
    "Run away,… '''"
   ]
  },
  {
   "cell_type": "markdown",
   "metadata": {},
   "source": [
    "### Step 1: First Paragraph\n",
    "Create a code to print the first paragraph and asign it to a variable. "
   ]
  },
  {
   "cell_type": "code",
   "execution_count": 87,
   "metadata": {},
   "outputs": [
    {
     "name": "stdout",
     "output_type": "stream",
     "text": [
      "Baby shark, doo doo doo doo doo doo  \n",
      "Baby shark, doo doo doo doo doo doo  \n",
      "Baby shark, doo doo doo doo doo doo  \n",
      "Baby shark!\n"
     ]
    }
   ],
   "source": [
    "# your code here\n",
    "repeat_verse = \"doo \"*6\n",
    "\n",
    "B = \"Baby shark,\"\n",
    "n1 = \"\\n\"\n",
    "open_string = \"{} {} {}\" # primer: nombre que va cambiando, segun: doo\n",
    "result_bb = open_string.format(B, repeat_verse,n1)\n",
    "total_result_bb = result_bb*3+\"Baby shark!\"\n",
    "print(total_result_bb)"
   ]
  },
  {
   "cell_type": "markdown",
   "metadata": {},
   "source": [
    "**Expected output**:\n",
    "\n",
    "```\n",
    "Baby shark, doo doo doo doo doo doo\n",
    "Baby shark, doo doo doo doo doo doo\n",
    "Baby shark, doo doo doo doo doo doo\n",
    "Baby shark!\n",
    "```\n",
    "\n"
   ]
  },
  {
   "cell_type": "markdown",
   "metadata": {},
   "source": [
    "### Step 2: Full song\n",
    "\n",
    "Create a code that prints the complete lyrics. "
   ]
  },
  {
   "cell_type": "code",
   "execution_count": 187,
   "metadata": {},
   "outputs": [
    {
     "name": "stdout",
     "output_type": "stream",
     "text": [
      "Baby shark, doo doo doo doo doo doo  \n",
      "Baby shark, doo doo doo doo doo doo  \n",
      "Baby shark, doo doo doo doo doo doo  \n",
      "Baby shark!\n",
      "Mommy shark, doo doo doo doo doo doo  \n",
      "Mommy shark, doo doo doo doo doo doo  \n",
      "Mommy shark, doo doo doo doo doo doo  \n",
      "Mommy shark!\n",
      "Daddy shark, doo doo doo doo doo doo  \n",
      "Daddy shark, doo doo doo doo doo doo  \n",
      "Daddy shark, doo doo doo doo doo doo  \n",
      "Daddy shark!\n",
      "Grandma shark, doo doo doo doo doo doo  \n",
      "Grandma shark, doo doo doo doo doo doo  \n",
      "Grandma shark, doo doo doo doo doo doo  \n",
      "Grandma shark!\n",
      "Grandpa shark, doo doo doo doo doo doo  \n",
      "Grandpa shark, doo doo doo doo doo doo  \n",
      "Grandpa shark, doo doo doo doo doo doo  \n",
      "Grandpa shark!\n",
      "Let's go hunt, doo doo doo doo doo doo  \n",
      "Let's go hunt, doo doo doo doo doo doo  \n",
      "Let's go hunt, doo doo doo doo doo doo  \n",
      "Let's go hunt!\n",
      "Run away,…\n"
     ]
    }
   ],
   "source": [
    "# your code here\n",
    "repeat_verse = \"doo \"*6\n",
    "\n",
    "B = \"Baby shark,\"\n",
    "n1 = \"\\n\"\n",
    "open_string = \"{} {} {}\" # primer: nombre que va cambiando, segun: doo\n",
    "result_bb = open_string.format(B, repeat_verse,n1)\n",
    "total_result_bb = result_bb*3+\"Baby shark!\"\n",
    "\n",
    "M = \"Mommy shark,\"\n",
    "open_string = \"{} {} {}\" # primer: nombre que va cambiando, segun: doo\n",
    "result_mm = open_string.format(M, repeat_verse,n1)\n",
    "total_result_mm = result_mm*3+\"Mommy shark!\"\n",
    "\n",
    "D = \"Daddy shark,\"\n",
    "open_string = \"{} {} {}\" # primer: nombre que va cambiando, segun: doo\n",
    "result_dd = open_string.format(D, repeat_verse,n1)\n",
    "total_result_dd = result_dd*3+\"Daddy shark!\"\n",
    "\n",
    "Gm = \"Grandma shark,\"\n",
    "open_string = \"{} {} {}\"  # primer: nombre que va cambiando, segun: doo\n",
    "result_gm = open_string.format(Gm, repeat_verse,n1)\n",
    "total_result_gm = result_gm*3+\"Grandma shark!\"\n",
    "\n",
    "Gp = \"Grandpa shark,\"\n",
    "open_string = \"{} {} {}\" # primer: nombre que va cambiando, segun: doo\n",
    "result_gp = open_string.format(Gp, repeat_verse,n1)\n",
    "total_result_gp = result_gp*3+\"Grandpa shark!\"\n",
    "\n",
    "L = \"Let\\'s go hunt,\"\n",
    "open_string = \"{} {} {}\" # primer: nombre que va cambiando, segun: doo\n",
    "result_l = open_string.format(L, repeat_verse,n1)\n",
    "total_result_l = result_l*3+\"Let\\'s go hunt!\"\n",
    "\n",
    "baby_shark_lyrics = ((total_result_bb)+(\"\\n\")+(total_result_mm)+(\"\\n\")+(total_result_dd)+(\"\\n\")+(total_result_gm)+(\"\\n\")+(total_result_gp)+(\"\\n\")+(total_result_l)+(\"\\n\")+(\"Run away,…\"))\n",
    "print(baby_shark_lyrics)\n"
   ]
  },
  {
   "cell_type": "markdown",
   "metadata": {},
   "source": [
    "**Expected output**:\n",
    "\n",
    "```\n",
    "Baby shark, doo doo doo doo doo doo\n",
    "Baby shark, doo doo doo doo doo doo\n",
    "Baby shark, doo doo doo doo doo doo\n",
    "Baby shark!\n",
    "Mommy shark, doo doo doo doo doo doo\n",
    "Mommy shark, doo doo doo doo doo doo\n",
    "Mommy shark, doo doo doo doo doo doo\n",
    "Mommy shark!\n",
    "Daddy shark, doo doo doo doo doo doo\n",
    "Daddy shark, doo doo doo doo doo doo\n",
    "Daddy shark, doo doo doo doo doo doo\n",
    "Daddy shark!\n",
    "Grandma shark, doo doo doo doo doo doo\n",
    "Grandma shark, doo doo doo doo doo doo\n",
    "Grandma shark, doo doo doo doo doo doo\n",
    "Grandma shark!\n",
    "Grandpa shark, doo doo doo doo doo doo\n",
    "Grandpa shark, doo doo doo doo doo doo\n",
    "Grandpa shark, doo doo doo doo doo doo\n",
    "Grandpa shark!\n",
    "Let's go hunt, doo doo doo doo doo doo\n",
    "Let's go hunt, doo doo doo doo doo doo\n",
    "Let's go hunt, doo doo doo doo doo doo\n",
    "Let's go hunt!\n",
    "Run away,… \n",
    "```\n",
    "\n",
    "### Step 3: Check output\n",
    "Now i want you must create a string variable called **result** to store all the characters and check if it is equal to the lyrics. Remenber de hint section. "
   ]
  },
  {
   "cell_type": "code",
   "execution_count": 140,
   "metadata": {},
   "outputs": [
    {
     "data": {
      "text/plain": [
       "True"
      ]
     },
     "execution_count": 140,
     "metadata": {},
     "output_type": "execute_result"
    }
   ],
   "source": [
    "# your code here\n",
    "open_string =\"{}\"\n",
    "result = open_string.format(baby_shark_lyrics)\n",
    "result==baby_shark_lyrics"
   ]
  },
  {
   "cell_type": "code",
   "execution_count": 141,
   "metadata": {},
   "outputs": [
    {
     "data": {
      "text/plain": [
       "False"
      ]
     },
     "execution_count": 141,
     "metadata": {},
     "output_type": "execute_result"
    }
   ],
   "source": [
    "# Check\n",
    "#Para comprobar si son iguales\n",
    "baby_shark_lyrics==babyshark1\n",
    "    \n",
    "##el output es false pero yo no veo ninguna diferencia en el codigo...\n"
   ]
  },
  {
   "cell_type": "markdown",
   "metadata": {},
   "source": [
    "**Expected output**:\n",
    "\n",
    "```\n",
    "True\n",
    "```\n",
    "\n",
    "### Step 4: Function\n",
    " Create a functions called babyshark() that generates the wanted output. "
   ]
  },
  {
   "cell_type": "code",
   "execution_count": 142,
   "metadata": {},
   "outputs": [],
   "source": [
    "##En el ej anterior, result != babyshark1, cuando deberia ser igual, \n",
    "##por ello este ejercicio lo hago con la variable result para que no de error\n",
    "\n",
    "def babyshark():  \n",
    "    x = result\n",
    "    return(x)"
   ]
  },
  {
   "cell_type": "code",
   "execution_count": 143,
   "metadata": {},
   "outputs": [
    {
     "data": {
      "text/plain": [
       "True"
      ]
     },
     "execution_count": 143,
     "metadata": {},
     "output_type": "execute_result"
    }
   ],
   "source": [
    "# Check\n",
    "babyshark() == baby_shark_lyrics\n"
   ]
  },
  {
   "cell_type": "markdown",
   "metadata": {},
   "source": [
    "**Expected output**:\n",
    "\n",
    "```\n",
    "True\n",
    "```"
   ]
  },
  {
   "cell_type": "markdown",
   "metadata": {},
   "source": [
    "### Step 5: Files\n",
    "Baby shark lyrics can be read in the songs folder. Try to store the content of that file in a variable called **text** and check if it is equal to the babyshark variable and the output of your baby_shark_lyrics function. \n",
    "\n",
    "https://www.pythonforbeginners.com/files/reading-and-writing-files-in-python"
   ]
  },
  {
   "cell_type": "code",
   "execution_count": 175,
   "metadata": {},
   "outputs": [],
   "source": [
    "# your code here\n",
    "text = open('/home/ubuntu/prework-datamad-no-solutions/lyrics/songs/baby-shark.txt','r')\n",
    "#It has been stored correctly, therefore, if you print;\n",
    "#print (text.read())   #it prints de lyrics of the song from the file\n"
   ]
  },
  {
   "cell_type": "code",
   "execution_count": 176,
   "metadata": {},
   "outputs": [
    {
     "name": "stdout",
     "output_type": "stream",
     "text": [
      "False\n"
     ]
    }
   ],
   "source": [
    "# check\n",
    "print((text.read()==baby_shark_lyrics))\n",
    "\n",
    "#The output is false wich I dont understand, because if you print \n",
    "#the text from the previous exercise the lyrics are the same \n",
    "\n"
   ]
  },
  {
   "cell_type": "markdown",
   "metadata": {},
   "source": [
    "**Expected output**:\n",
    "\n",
    "```\n",
    "True\n",
    "```"
   ]
  },
  {
   "cell_type": "code",
   "execution_count": 177,
   "metadata": {},
   "outputs": [
    {
     "name": "stdout",
     "output_type": "stream",
     "text": [
      "False\n"
     ]
    }
   ],
   "source": [
    "# Check\n",
    "\n",
    "print(result == text.read())\n"
   ]
  },
  {
   "cell_type": "markdown",
   "metadata": {},
   "source": [
    "**Expected output**:\n",
    "\n",
    "```\n",
    "True\n",
    "```"
   ]
  },
  {
   "cell_type": "markdown",
   "metadata": {},
   "source": [
    "### Step 6: Refactor\n",
    "Now I want you to refactor your **baby_shark_lyrics** function in order to be less than 400 characters. If your code is larger than 400 characters, you should change baby_shark_lyrics function in order to shorten it."
   ]
  },
  {
   "cell_type": "code",
   "execution_count": 188,
   "metadata": {},
   "outputs": [
    {
     "ename": "TypeError",
     "evalue": "module, class, method, function, traceback, frame, or code object was expected, got str",
     "output_type": "error",
     "traceback": [
      "\u001b[0;31m---------------------------------------------------------------------------\u001b[0m",
      "\u001b[0;31mTypeError\u001b[0m                                 Traceback (most recent call last)",
      "\u001b[0;32m<ipython-input-188-ec273731939f>\u001b[0m in \u001b[0;36m<module>\u001b[0;34m\u001b[0m\n\u001b[1;32m      1\u001b[0m \u001b[0;32mimport\u001b[0m \u001b[0minspect\u001b[0m\u001b[0;34m\u001b[0m\u001b[0;34m\u001b[0m\u001b[0m\n\u001b[1;32m      2\u001b[0m \u001b[0;34m\u001b[0m\u001b[0m\n\u001b[0;32m----> 3\u001b[0;31m \u001b[0mcode\u001b[0m \u001b[0;34m=\u001b[0m \u001b[0minspect\u001b[0m\u001b[0;34m.\u001b[0m\u001b[0mgetsource\u001b[0m\u001b[0;34m(\u001b[0m\u001b[0mbaby_shark_lyrics\u001b[0m\u001b[0;34m)\u001b[0m\u001b[0;34m\u001b[0m\u001b[0;34m\u001b[0m\u001b[0m\n\u001b[0m\u001b[1;32m      4\u001b[0m \u001b[0;34m\u001b[0m\u001b[0m\n\u001b[1;32m      5\u001b[0m \u001b[0;31m# check\u001b[0m\u001b[0;34m\u001b[0m\u001b[0;34m\u001b[0m\u001b[0;34m\u001b[0m\u001b[0m\n",
      "\u001b[0;32m/usr/lib/python3.8/inspect.py\u001b[0m in \u001b[0;36mgetsource\u001b[0;34m(object)\u001b[0m\n\u001b[1;32m    983\u001b[0m     \u001b[0;32mor\u001b[0m \u001b[0mcode\u001b[0m \u001b[0mobject\u001b[0m\u001b[0;34m.\u001b[0m  \u001b[0mThe\u001b[0m \u001b[0msource\u001b[0m \u001b[0mcode\u001b[0m \u001b[0;32mis\u001b[0m \u001b[0mreturned\u001b[0m \u001b[0;32mas\u001b[0m \u001b[0ma\u001b[0m \u001b[0msingle\u001b[0m \u001b[0mstring\u001b[0m\u001b[0;34m.\u001b[0m  \u001b[0mAn\u001b[0m\u001b[0;34m\u001b[0m\u001b[0;34m\u001b[0m\u001b[0m\n\u001b[1;32m    984\u001b[0m     OSError is raised if the source code cannot be retrieved.\"\"\"\n\u001b[0;32m--> 985\u001b[0;31m     \u001b[0mlines\u001b[0m\u001b[0;34m,\u001b[0m \u001b[0mlnum\u001b[0m \u001b[0;34m=\u001b[0m \u001b[0mgetsourcelines\u001b[0m\u001b[0;34m(\u001b[0m\u001b[0mobject\u001b[0m\u001b[0;34m)\u001b[0m\u001b[0;34m\u001b[0m\u001b[0;34m\u001b[0m\u001b[0m\n\u001b[0m\u001b[1;32m    986\u001b[0m     \u001b[0;32mreturn\u001b[0m \u001b[0;34m''\u001b[0m\u001b[0;34m.\u001b[0m\u001b[0mjoin\u001b[0m\u001b[0;34m(\u001b[0m\u001b[0mlines\u001b[0m\u001b[0;34m)\u001b[0m\u001b[0;34m\u001b[0m\u001b[0;34m\u001b[0m\u001b[0m\n\u001b[1;32m    987\u001b[0m \u001b[0;34m\u001b[0m\u001b[0m\n",
      "\u001b[0;32m/usr/lib/python3.8/inspect.py\u001b[0m in \u001b[0;36mgetsourcelines\u001b[0;34m(object)\u001b[0m\n\u001b[1;32m    965\u001b[0m     raised if the source code cannot be retrieved.\"\"\"\n\u001b[1;32m    966\u001b[0m     \u001b[0mobject\u001b[0m \u001b[0;34m=\u001b[0m \u001b[0munwrap\u001b[0m\u001b[0;34m(\u001b[0m\u001b[0mobject\u001b[0m\u001b[0;34m)\u001b[0m\u001b[0;34m\u001b[0m\u001b[0;34m\u001b[0m\u001b[0m\n\u001b[0;32m--> 967\u001b[0;31m     \u001b[0mlines\u001b[0m\u001b[0;34m,\u001b[0m \u001b[0mlnum\u001b[0m \u001b[0;34m=\u001b[0m \u001b[0mfindsource\u001b[0m\u001b[0;34m(\u001b[0m\u001b[0mobject\u001b[0m\u001b[0;34m)\u001b[0m\u001b[0;34m\u001b[0m\u001b[0;34m\u001b[0m\u001b[0m\n\u001b[0m\u001b[1;32m    968\u001b[0m \u001b[0;34m\u001b[0m\u001b[0m\n\u001b[1;32m    969\u001b[0m     \u001b[0;32mif\u001b[0m \u001b[0mistraceback\u001b[0m\u001b[0;34m(\u001b[0m\u001b[0mobject\u001b[0m\u001b[0;34m)\u001b[0m\u001b[0;34m:\u001b[0m\u001b[0;34m\u001b[0m\u001b[0;34m\u001b[0m\u001b[0m\n",
      "\u001b[0;32m/usr/lib/python3.8/inspect.py\u001b[0m in \u001b[0;36mfindsource\u001b[0;34m(object)\u001b[0m\n\u001b[1;32m    778\u001b[0m     is raised if the source code cannot be retrieved.\"\"\"\n\u001b[1;32m    779\u001b[0m \u001b[0;34m\u001b[0m\u001b[0m\n\u001b[0;32m--> 780\u001b[0;31m     \u001b[0mfile\u001b[0m \u001b[0;34m=\u001b[0m \u001b[0mgetsourcefile\u001b[0m\u001b[0;34m(\u001b[0m\u001b[0mobject\u001b[0m\u001b[0;34m)\u001b[0m\u001b[0;34m\u001b[0m\u001b[0;34m\u001b[0m\u001b[0m\n\u001b[0m\u001b[1;32m    781\u001b[0m     \u001b[0;32mif\u001b[0m \u001b[0mfile\u001b[0m\u001b[0;34m:\u001b[0m\u001b[0;34m\u001b[0m\u001b[0;34m\u001b[0m\u001b[0m\n\u001b[1;32m    782\u001b[0m         \u001b[0;31m# Invalidate cache if needed.\u001b[0m\u001b[0;34m\u001b[0m\u001b[0;34m\u001b[0m\u001b[0;34m\u001b[0m\u001b[0m\n",
      "\u001b[0;32m/usr/lib/python3.8/inspect.py\u001b[0m in \u001b[0;36mgetsourcefile\u001b[0;34m(object)\u001b[0m\n\u001b[1;32m    694\u001b[0m     \u001b[0mReturn\u001b[0m \u001b[0;32mNone\u001b[0m \u001b[0;32mif\u001b[0m \u001b[0mno\u001b[0m \u001b[0mway\u001b[0m \u001b[0mcan\u001b[0m \u001b[0mbe\u001b[0m \u001b[0midentified\u001b[0m \u001b[0mto\u001b[0m \u001b[0mget\u001b[0m \u001b[0mthe\u001b[0m \u001b[0msource\u001b[0m\u001b[0;34m.\u001b[0m\u001b[0;34m\u001b[0m\u001b[0;34m\u001b[0m\u001b[0m\n\u001b[1;32m    695\u001b[0m     \"\"\"\n\u001b[0;32m--> 696\u001b[0;31m     \u001b[0mfilename\u001b[0m \u001b[0;34m=\u001b[0m \u001b[0mgetfile\u001b[0m\u001b[0;34m(\u001b[0m\u001b[0mobject\u001b[0m\u001b[0;34m)\u001b[0m\u001b[0;34m\u001b[0m\u001b[0;34m\u001b[0m\u001b[0m\n\u001b[0m\u001b[1;32m    697\u001b[0m     \u001b[0mall_bytecode_suffixes\u001b[0m \u001b[0;34m=\u001b[0m \u001b[0mimportlib\u001b[0m\u001b[0;34m.\u001b[0m\u001b[0mmachinery\u001b[0m\u001b[0;34m.\u001b[0m\u001b[0mDEBUG_BYTECODE_SUFFIXES\u001b[0m\u001b[0;34m[\u001b[0m\u001b[0;34m:\u001b[0m\u001b[0;34m]\u001b[0m\u001b[0;34m\u001b[0m\u001b[0;34m\u001b[0m\u001b[0m\n\u001b[1;32m    698\u001b[0m     \u001b[0mall_bytecode_suffixes\u001b[0m \u001b[0;34m+=\u001b[0m \u001b[0mimportlib\u001b[0m\u001b[0;34m.\u001b[0m\u001b[0mmachinery\u001b[0m\u001b[0;34m.\u001b[0m\u001b[0mOPTIMIZED_BYTECODE_SUFFIXES\u001b[0m\u001b[0;34m[\u001b[0m\u001b[0;34m:\u001b[0m\u001b[0;34m]\u001b[0m\u001b[0;34m\u001b[0m\u001b[0;34m\u001b[0m\u001b[0m\n",
      "\u001b[0;32m/usr/lib/python3.8/inspect.py\u001b[0m in \u001b[0;36mgetfile\u001b[0;34m(object)\u001b[0m\n\u001b[1;32m    674\u001b[0m     \u001b[0;32mif\u001b[0m \u001b[0miscode\u001b[0m\u001b[0;34m(\u001b[0m\u001b[0mobject\u001b[0m\u001b[0;34m)\u001b[0m\u001b[0;34m:\u001b[0m\u001b[0;34m\u001b[0m\u001b[0;34m\u001b[0m\u001b[0m\n\u001b[1;32m    675\u001b[0m         \u001b[0;32mreturn\u001b[0m \u001b[0mobject\u001b[0m\u001b[0;34m.\u001b[0m\u001b[0mco_filename\u001b[0m\u001b[0;34m\u001b[0m\u001b[0;34m\u001b[0m\u001b[0m\n\u001b[0;32m--> 676\u001b[0;31m     raise TypeError('module, class, method, function, traceback, frame, or '\n\u001b[0m\u001b[1;32m    677\u001b[0m                     'code object was expected, got {}'.format(\n\u001b[1;32m    678\u001b[0m                     type(object).__name__))\n",
      "\u001b[0;31mTypeError\u001b[0m: module, class, method, function, traceback, frame, or code object was expected, got str"
     ]
    }
   ],
   "source": [
    "import inspect\n",
    "\n",
    "code = inspect.getsource(baby_shark_lyrics)\n",
    "\n",
    "# check\n",
    "\n",
    "\n",
    "print('Your baby_shark_lyrics functions has {} characters'.format(len(code)))\n",
    "print(len(code) < 400)\n",
    "\n",
    "\n",
    "##Nose como continuar con este problema. Cuando busco en internet el error que me da al \"run\" el codigo\n",
    "##sale much gente comentando que inspect.getsource intenta track down the file in wich the code was \n",
    "##defined, when in reality the function is defined aqui no en una file aparte\n",
    "##(esto es lo que he entendido yo...)\n",
    "\n"
   ]
  },
  {
   "cell_type": "markdown",
   "metadata": {},
   "source": [
    "**Expected output**:\n",
    "\n",
    "```\n",
    "Your baby_shark_lyrics functions has 367 characters\n",
    "True\n",
    "```"
   ]
  },
  {
   "cell_type": "markdown",
   "metadata": {},
   "source": [
    "## Bonus\n",
    "\n",
    "http://www.99-bottles-of-beer.net/\n",
    "\n",
    "Now let`s try with another lyric, you can find it in songs folder. \n",
    "\n",
    "### Step 1. Create bottles_lyrics function"
   ]
  },
  {
   "cell_type": "code",
   "execution_count": null,
   "metadata": {},
   "outputs": [],
   "source": [
    "def bottles_lyrics():\n",
    "    # your code here. \n",
    "    \n",
    "    "
   ]
  },
  {
   "cell_type": "markdown",
   "metadata": {},
   "source": [
    "### Step 2. Open file"
   ]
  },
  {
   "cell_type": "code",
   "execution_count": 82,
   "metadata": {},
   "outputs": [
    {
     "name": "stdout",
     "output_type": "stream",
     "text": [
      "Baby shark, doo doo doo doo doo doo  \n",
      "Baby shark, doo doo doo doo doo doo  \n",
      "Baby shark, doo doo doo doo doo doo  \n",
      "Baby shark!\n",
      "\n",
      "Mommy shark doo doo doo doo doo doo  \n",
      "Mommy shark doo doo doo doo doo doo  \n",
      "Mommy shark doo doo doo doo doo doo  \n",
      "Mommy shark!\n",
      "\n"
     ]
    }
   ],
   "source": [
    "# your code here. \n"
   ]
  },
  {
   "cell_type": "code",
   "execution_count": null,
   "metadata": {},
   "outputs": [],
   "source": [
    "# Check\n",
    "\n",
    "print(bottles_lyrics() == text)"
   ]
  },
  {
   "cell_type": "markdown",
   "metadata": {},
   "source": [
    "**Expected output**:\n",
    "\n",
    "```\n",
    "True\n",
    "```"
   ]
  },
  {
   "cell_type": "markdown",
   "metadata": {},
   "source": [
    "### Step 3: Check code\n",
    "Now I want you to refactor your **bottles_lyrics** function in order to be less than 1000 characters. "
   ]
  },
  {
   "cell_type": "code",
   "execution_count": null,
   "metadata": {},
   "outputs": [],
   "source": [
    "import inspect\n",
    "\n",
    "code = inspect.getsource(bottles_lyrics)"
   ]
  },
  {
   "cell_type": "code",
   "execution_count": null,
   "metadata": {},
   "outputs": [],
   "source": [
    "# check\n",
    "\n",
    "print('Your bottles_lyrics functions has {} characters'.format(len(code)))\n",
    "print(len(code) < 1000)"
   ]
  },
  {
   "cell_type": "markdown",
   "metadata": {},
   "source": [
    "**Expected output**:\n",
    "\n",
    "```\n",
    "Your bottles_lyrics functions has 837 characters\n",
    "True\n",
    "```"
   ]
  },
  {
   "cell_type": "markdown",
   "metadata": {},
   "source": [
    "If you want a real challenge, follow the link below. Sign in and start coding!\n",
    "\n",
    "https://www.codewars.com/kata/baby-shark-lyrics-generator/train/python"
   ]
  }
 ],
 "metadata": {
  "kernelspec": {
   "display_name": "Python 3",
   "language": "python",
   "name": "python3"
  },
  "language_info": {
   "codemirror_mode": {
    "name": "ipython",
    "version": 3
   },
   "file_extension": ".py",
   "mimetype": "text/x-python",
   "name": "python",
   "nbconvert_exporter": "python",
   "pygments_lexer": "ipython3",
   "version": "3.8.5"
  }
 },
 "nbformat": 4,
 "nbformat_minor": 2
}
