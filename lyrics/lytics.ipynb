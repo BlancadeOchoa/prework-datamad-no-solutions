{
 "cells": [
  {
   "cell_type": "markdown",
   "metadata": {},
   "source": [
    "# Lyrics\n",
    "## Intro\n",
    "This exercise is simple. You are going to create a code that writes the lyrics of a famous song. **The shorter your code is, the better**. Although it may seem a bit silly, it is important that you learn to automate repetitive tasks or that there are few changes between them.\n",
    "\n",
    "<img src=\"./images/babyshark.jpeg\" width=\"400\">\n",
    "\n",
    "## Song\n",
    "\n",
    "```\n",
    "Baby shark, doo doo doo doo doo doo\n",
    "Baby shark, doo doo doo doo doo doo\n",
    "Baby shark, doo doo doo doo doo doo\n",
    "Baby shark!\n",
    "Mommy shark, doo doo doo doo doo doo\n",
    "Mommy shark, doo doo doo doo doo doo\n",
    "Mommy shark, doo doo doo doo doo doo\n",
    "Mommy shark!\n",
    "Daddy shark, doo doo doo doo doo doo\n",
    "Daddy shark, doo doo doo doo doo doo\n",
    "Daddy shark, doo doo doo doo doo doo\n",
    "Daddy shark!\n",
    "Grandma shark, doo doo doo doo doo doo\n",
    "Grandma shark, doo doo doo doo doo doo\n",
    "Grandma shark, doo doo doo doo doo doo\n",
    "Grandma shark!\n",
    "Grandpa shark, doo doo doo doo doo doo\n",
    "Grandpa shark, doo doo doo doo doo doo\n",
    "Grandpa shark, doo doo doo doo doo doo\n",
    "Grandpa shark!\n",
    "Let's go hunt, doo doo doo doo doo doo\n",
    "Let's go hunt, doo doo doo doo doo doo\n",
    "Let's go hunt, doo doo doo doo doo doo\n",
    "Let's go hunt!\n",
    "Run away,… \n",
    "```\n",
    "\n",
    "\n",
    "## Goals\n",
    "\n",
    "0. Use of string methods: **format()**, **str()**\n",
    "1. Use of **for loop**\n",
    "2. Use of the function **range()**\n",
    "3. print()\n",
    "4. Use of functions\n",
    "5. Open files\n",
    "6. Refactoring\n",
    "\n",
    "## Hints\n",
    "\n",
    "* '\\n' is the character for new line. It must end every string in the third step. \n",
    "\n",
    "\n",
    "## Solution"
   ]
  },
  {
   "cell_type": "code",
   "execution_count": 1,
   "metadata": {},
   "outputs": [],
   "source": [
    "# Variable\n",
    "\n",
    "babyshark1 = '''\n",
    "Baby shark, doo doo doo doo doo doo  \n",
    "Baby shark, doo doo doo doo doo doo  \n",
    "Baby shark, doo doo doo doo doo doo  \n",
    "Baby shark!\n",
    "Mommy shark, doo doo doo doo doo doo  \n",
    "Mommy shark, doo doo doo doo doo doo  \n",
    "Mommy shark, doo doo doo doo doo doo  \n",
    "Mommy shark!\n",
    "Daddy shark, doo doo doo doo doo doo  \n",
    "Daddy shark, doo doo doo doo doo doo  \n",
    "Daddy shark, doo doo doo doo doo doo  \n",
    "Daddy shark!\n",
    "Grandma shark, doo doo doo doo doo doo  \n",
    "Grandma shark, doo doo doo doo doo doo  \n",
    "Grandma shark, doo doo doo doo doo doo  \n",
    "Grandma shark!\n",
    "Grandpa shark, doo doo doo doo doo doo  \n",
    "Grandpa shark, doo doo doo doo doo doo  \n",
    "Grandpa shark, doo doo doo doo doo doo  \n",
    "Grandpa shark!\n",
    "Let's go hunt, doo doo doo doo doo doo  \n",
    "Let's go hunt, doo doo doo doo doo doo  \n",
    "Let's go hunt, doo doo doo doo doo doo  \n",
    "Let's go hunt!\n",
    "Run away,… '''"
   ]
  },
  {
   "cell_type": "markdown",
   "metadata": {},
   "source": [
    "### Step 1: First Paragraph\n",
    "Create a code to print the first paragraph and asign it to a variable. "
   ]
  },
  {
   "cell_type": "code",
   "execution_count": 2,
   "metadata": {},
   "outputs": [
    {
     "name": "stdout",
     "output_type": "stream",
     "text": [
      "Baby shark, doo doo doo doo doo doo  \n",
      "Baby shark, doo doo doo doo doo doo  \n",
      "Baby shark, doo doo doo doo doo doo  \n",
      "Baby shark!\n"
     ]
    }
   ],
   "source": [
    "# your code here\n",
    "repeat_verse = \"doo \"*6\n",
    "\n",
    "B = \"Baby shark,\"\n",
    "n1 = \"\\n\"\n",
    "open_string = \"{} {} {}\" # primer: nombre que va cambiando, segun: doo\n",
    "result_bb = open_string.format(B, repeat_verse,n1)\n",
    "total_result_bb = result_bb*3+\"Baby shark!\"\n",
    "print(total_result_bb)"
   ]
  },
  {
   "cell_type": "markdown",
   "metadata": {},
   "source": [
    "**Expected output**:\n",
    "\n",
    "```\n",
    "Baby shark, doo doo doo doo doo doo\n",
    "Baby shark, doo doo doo doo doo doo\n",
    "Baby shark, doo doo doo doo doo doo\n",
    "Baby shark!\n",
    "```\n",
    "\n"
   ]
  },
  {
   "cell_type": "markdown",
   "metadata": {},
   "source": [
    "### Step 2: Full song\n",
    "\n",
    "Create a code that prints the complete lyrics. "
   ]
  },
  {
   "cell_type": "code",
   "execution_count": 3,
   "metadata": {},
   "outputs": [
    {
     "name": "stdout",
     "output_type": "stream",
     "text": [
      "Baby shark, doo doo doo doo doo doo  \n",
      "Baby shark, doo doo doo doo doo doo  \n",
      "Baby shark, doo doo doo doo doo doo  \n",
      "Baby shark!\n",
      "Mommy shark, doo doo doo doo doo doo  \n",
      "Mommy shark, doo doo doo doo doo doo  \n",
      "Mommy shark, doo doo doo doo doo doo  \n",
      "Mommy shark!\n",
      "Daddy shark, doo doo doo doo doo doo  \n",
      "Daddy shark, doo doo doo doo doo doo  \n",
      "Daddy shark, doo doo doo doo doo doo  \n",
      "Daddy shark!\n",
      "Grandma shark, doo doo doo doo doo doo  \n",
      "Grandma shark, doo doo doo doo doo doo  \n",
      "Grandma shark, doo doo doo doo doo doo  \n",
      "Grandma shark!\n",
      "Grandpa shark, doo doo doo doo doo doo  \n",
      "Grandpa shark, doo doo doo doo doo doo  \n",
      "Grandpa shark, doo doo doo doo doo doo  \n",
      "Grandpa shark!\n",
      "Let's go hunt, doo doo doo doo doo doo  \n",
      "Let's go hunt, doo doo doo doo doo doo  \n",
      "Let's go hunt, doo doo doo doo doo doo  \n",
      "Let's go hunt!\n",
      "Run away,…\n"
     ]
    }
   ],
   "source": [
    "# your code here\n",
    "repeat_verse = \"doo \"*6\n",
    "\n",
    "B = \"Baby shark,\"\n",
    "n1 = \"\\n\"\n",
    "open_string = \"{} {} {}\" # primer: nombre que va cambiando, segun: doo\n",
    "result_bb = open_string.format(B, repeat_verse,n1)\n",
    "total_result_bb = result_bb*3+\"Baby shark!\"\n",
    "\n",
    "M = \"Mommy shark,\"\n",
    "open_string = \"{} {} {}\" # primer: nombre que va cambiando, segun: doo\n",
    "result_mm = open_string.format(M, repeat_verse,n1)\n",
    "total_result_mm = result_mm*3+\"Mommy shark!\"\n",
    "\n",
    "D = \"Daddy shark,\"\n",
    "open_string = \"{} {} {}\" # primer: nombre que va cambiando, segun: doo\n",
    "result_dd = open_string.format(D, repeat_verse,n1)\n",
    "total_result_dd = result_dd*3+\"Daddy shark!\"\n",
    "\n",
    "Gm = \"Grandma shark,\"\n",
    "open_string = \"{} {} {}\"  # primer: nombre que va cambiando, segun: doo\n",
    "result_gm = open_string.format(Gm, repeat_verse,n1)\n",
    "total_result_gm = result_gm*3+\"Grandma shark!\"\n",
    "\n",
    "Gp = \"Grandpa shark,\"\n",
    "open_string = \"{} {} {}\" # primer: nombre que va cambiando, segun: doo\n",
    "result_gp = open_string.format(Gp, repeat_verse,n1)\n",
    "total_result_gp = result_gp*3+\"Grandpa shark!\"\n",
    "\n",
    "L = \"Let\\'s go hunt,\"\n",
    "open_string = \"{} {} {}\" # primer: nombre que va cambiando, segun: doo\n",
    "result_l = open_string.format(L, repeat_verse,n1)\n",
    "total_result_l = result_l*3+\"Let\\'s go hunt!\"\n",
    "\n",
    "baby_shark_lyrics = ((total_result_bb)+(\"\\n\")+(total_result_mm)+(\"\\n\")+(total_result_dd)+(\"\\n\")+(total_result_gm)+(\"\\n\")+(total_result_gp)+(\"\\n\")+(total_result_l)+(\"\\n\")+(\"Run away,…\"))\n",
    "print(baby_shark_lyrics)\n"
   ]
  },
  {
   "cell_type": "markdown",
   "metadata": {},
   "source": [
    "**Expected output**:\n",
    "\n",
    "```\n",
    "Baby shark, doo doo doo doo doo doo\n",
    "Baby shark, doo doo doo doo doo doo\n",
    "Baby shark, doo doo doo doo doo doo\n",
    "Baby shark!\n",
    "Mommy shark, doo doo doo doo doo doo\n",
    "Mommy shark, doo doo doo doo doo doo\n",
    "Mommy shark, doo doo doo doo doo doo\n",
    "Mommy shark!\n",
    "Daddy shark, doo doo doo doo doo doo\n",
    "Daddy shark, doo doo doo doo doo doo\n",
    "Daddy shark, doo doo doo doo doo doo\n",
    "Daddy shark!\n",
    "Grandma shark, doo doo doo doo doo doo\n",
    "Grandma shark, doo doo doo doo doo doo\n",
    "Grandma shark, doo doo doo doo doo doo\n",
    "Grandma shark!\n",
    "Grandpa shark, doo doo doo doo doo doo\n",
    "Grandpa shark, doo doo doo doo doo doo\n",
    "Grandpa shark, doo doo doo doo doo doo\n",
    "Grandpa shark!\n",
    "Let's go hunt, doo doo doo doo doo doo\n",
    "Let's go hunt, doo doo doo doo doo doo\n",
    "Let's go hunt, doo doo doo doo doo doo\n",
    "Let's go hunt!\n",
    "Run away,… \n",
    "```\n",
    "\n",
    "### Step 3: Check output\n",
    "Now i want you must create a string variable called **result** to store all the characters and check if it is equal to the lyrics. Remenber de hint section. "
   ]
  },
  {
   "cell_type": "code",
   "execution_count": 4,
   "metadata": {},
   "outputs": [
    {
     "data": {
      "text/plain": [
       "True"
      ]
     },
     "execution_count": 4,
     "metadata": {},
     "output_type": "execute_result"
    }
   ],
   "source": [
    "# your code here\n",
    "open_string =\"{}\"\n",
    "result = open_string.format(baby_shark_lyrics)\n",
    "result==baby_shark_lyrics"
   ]
  },
  {
   "cell_type": "code",
   "execution_count": 5,
   "metadata": {},
   "outputs": [
    {
     "data": {
      "text/plain": [
       "False"
      ]
     },
     "execution_count": 5,
     "metadata": {},
     "output_type": "execute_result"
    }
   ],
   "source": [
    "# Check\n",
    "#Para comprobar si son iguales\n",
    "baby_shark_lyrics==babyshark1\n",
    "    \n",
    "##el output es false pero yo no veo ninguna diferencia en el codigo...\n"
   ]
  },
  {
   "cell_type": "markdown",
   "metadata": {},
   "source": [
    "**Expected output**:\n",
    "\n",
    "```\n",
    "True\n",
    "```\n",
    "\n",
    "### Step 4: Function\n",
    " Create a functions called babyshark() that generates the wanted output. "
   ]
  },
  {
   "cell_type": "code",
   "execution_count": 6,
   "metadata": {},
   "outputs": [],
   "source": [
    "##En el ej anterior, result != babyshark1, cuando deberia ser igual, \n",
    "##por ello este ejercicio lo hago con la variable result para que no de error\n",
    "\n",
    "def babyshark():  \n",
    "    x = result\n",
    "    return(x)"
   ]
  },
  {
   "cell_type": "code",
   "execution_count": 7,
   "metadata": {},
   "outputs": [
    {
     "data": {
      "text/plain": [
       "True"
      ]
     },
     "execution_count": 7,
     "metadata": {},
     "output_type": "execute_result"
    }
   ],
   "source": [
    "# Check\n",
    "babyshark() == baby_shark_lyrics\n"
   ]
  },
  {
   "cell_type": "markdown",
   "metadata": {},
   "source": [
    "**Expected output**:\n",
    "\n",
    "```\n",
    "True\n",
    "```"
   ]
  },
  {
   "cell_type": "markdown",
   "metadata": {},
   "source": [
    "### Step 5: Files\n",
    "Baby shark lyrics can be read in the songs folder. Try to store the content of that file in a variable called **text** and check if it is equal to the babyshark variable and the output of your baby_shark_lyrics function. \n",
    "\n",
    "https://www.pythonforbeginners.com/files/reading-and-writing-files-in-python"
   ]
  },
  {
   "cell_type": "code",
   "execution_count": 8,
   "metadata": {},
   "outputs": [],
   "source": [
    "# your code here\n",
    "text = open('/home/ubuntu/prework-datamad-no-solutions/lyrics/songs/baby-shark.txt','r')\n",
    "#It has been stored correctly, therefore, if you print;\n",
    "#print (text.read())   #it prints de lyrics of the song from the file\n"
   ]
  },
  {
   "cell_type": "code",
   "execution_count": 9,
   "metadata": {},
   "outputs": [
    {
     "name": "stdout",
     "output_type": "stream",
     "text": [
      "False\n"
     ]
    }
   ],
   "source": [
    "# check\n",
    "print((text.read()==baby_shark_lyrics))\n",
    "\n",
    "#The output is false wich I dont understand, because if you print \n",
    "#the text from the previous exercise the lyrics are the same \n",
    "\n"
   ]
  },
  {
   "cell_type": "markdown",
   "metadata": {},
   "source": [
    "**Expected output**:\n",
    "\n",
    "```\n",
    "True\n",
    "```"
   ]
  },
  {
   "cell_type": "code",
   "execution_count": 10,
   "metadata": {},
   "outputs": [
    {
     "name": "stdout",
     "output_type": "stream",
     "text": [
      "False\n"
     ]
    }
   ],
   "source": [
    "# Check\n",
    "\n",
    "print(result == text.read())\n"
   ]
  },
  {
   "cell_type": "markdown",
   "metadata": {},
   "source": [
    "**Expected output**:\n",
    "\n",
    "```\n",
    "True\n",
    "```"
   ]
  },
  {
   "cell_type": "markdown",
   "metadata": {},
   "source": [
    "### Step 6: Refactor\n",
    "Now I want you to refactor your **baby_shark_lyrics** function in order to be less than 400 characters. If your code is larger than 400 characters, you should change baby_shark_lyrics function in order to shorten it."
   ]
  },
  {
   "cell_type": "code",
   "execution_count": 12,
   "metadata": {},
   "outputs": [
    {
     "ename": "NameError",
     "evalue": "name 'code' is not defined",
     "output_type": "error",
     "traceback": [
      "\u001b[0;31m---------------------------------------------------------------------------\u001b[0m",
      "\u001b[0;31mNameError\u001b[0m                                 Traceback (most recent call last)",
      "\u001b[0;32m<ipython-input-12-c82a911e8899>\u001b[0m in \u001b[0;36m<module>\u001b[0;34m\u001b[0m\n\u001b[1;32m      2\u001b[0m \u001b[0;34m\u001b[0m\u001b[0m\n\u001b[1;32m      3\u001b[0m \u001b[0;34m\u001b[0m\u001b[0m\n\u001b[0;32m----> 4\u001b[0;31m \u001b[0mprint\u001b[0m\u001b[0;34m(\u001b[0m\u001b[0;34m'Your baby_shark_lyrics functions has {} characters'\u001b[0m\u001b[0;34m.\u001b[0m\u001b[0mformat\u001b[0m\u001b[0;34m(\u001b[0m\u001b[0mlen\u001b[0m\u001b[0;34m(\u001b[0m\u001b[0mcode\u001b[0m\u001b[0;34m)\u001b[0m\u001b[0;34m)\u001b[0m\u001b[0;34m)\u001b[0m\u001b[0;34m\u001b[0m\u001b[0;34m\u001b[0m\u001b[0m\n\u001b[0m\u001b[1;32m      5\u001b[0m \u001b[0mprint\u001b[0m\u001b[0;34m(\u001b[0m\u001b[0mlen\u001b[0m\u001b[0;34m(\u001b[0m\u001b[0mcode\u001b[0m\u001b[0;34m)\u001b[0m \u001b[0;34m<\u001b[0m \u001b[0;36m400\u001b[0m\u001b[0;34m)\u001b[0m\u001b[0;34m\u001b[0m\u001b[0;34m\u001b[0m\u001b[0m\n\u001b[1;32m      6\u001b[0m \u001b[0;34m\u001b[0m\u001b[0m\n",
      "\u001b[0;31mNameError\u001b[0m: name 'code' is not defined"
     ]
    }
   ],
   "source": [
    "import inspect\n",
    "\n",
    "code = inspect.getsource(baby_shark_lyrics)\n",
    "\n",
    "# check\n",
    "\n",
    "\n",
    "print('Your baby_shark_lyrics functions has {} characters'.format(len(code)))\n",
    "print(len(code) < 400)\n",
    "\n",
    "\n",
    "##Nose como continuar con este problema. Cuando busco en internet el error que me da al \"run\" el codigo\n",
    "##sale much gente comentando que inspect.getsource intenta track down the file in wich the code was \n",
    "##defined, when in reality the function is defined aqui no en una file aparte\n",
    "##(esto es lo que he entendido yo...)\n",
    "\n"
   ]
  },
  {
   "cell_type": "markdown",
   "metadata": {},
   "source": [
    "**Expected output**:\n",
    "\n",
    "```\n",
    "Your baby_shark_lyrics functions has 367 characters\n",
    "True\n",
    "```"
   ]
  },
  {
   "cell_type": "markdown",
   "metadata": {},
   "source": [
    "## Bonus\n",
    "\n",
    "http://www.99-bottles-of-beer.net/\n",
    "\n",
    "Now let`s try with another lyric, you can find it in songs folder. \n",
    "\n",
    "### Step 1. Create bottles_lyrics function"
   ]
  },
  {
   "cell_type": "code",
   "execution_count": 11,
   "metadata": {},
   "outputs": [
    {
     "name": "stdout",
     "output_type": "stream",
     "text": [
      "99 bottles of beer on the wall, 99 bottles of beer.\n",
      "Take one down and pass it around, 98 bottles of beer on the wall.\n",
      "\n",
      "98 bottles of beer on the wall, 98 bottles of beer.\n",
      "Take one down and pass it around, 97 bottles of beer on the wall.\n",
      "\n",
      "97 bottles of beer on the wall, 97 bottles of beer.\n",
      "Take one down and pass it around, 96 bottles of beer on the wall.\n",
      "\n",
      "96 bottles of beer on the wall, 96 bottles of beer.\n",
      "Take one down and pass it around, 95 bottles of beer on the wall.\n",
      "\n",
      "95 bottles of beer on the wall, 95 bottles of beer.\n",
      "Take one down and pass it around, 94 bottles of beer on the wall.\n",
      "\n",
      "94 bottles of beer on the wall, 94 bottles of beer.\n",
      "Take one down and pass it around, 93 bottles of beer on the wall.\n",
      "\n",
      "93 bottles of beer on the wall, 93 bottles of beer.\n",
      "Take one down and pass it around, 92 bottles of beer on the wall.\n",
      "\n",
      "92 bottles of beer on the wall, 92 bottles of beer.\n",
      "Take one down and pass it around, 91 bottles of beer on the wall.\n",
      "\n",
      "91 bottles of beer on the wall, 91 bottles of beer.\n",
      "Take one down and pass it around, 90 bottles of beer on the wall.\n",
      "\n",
      "90 bottles of beer on the wall, 90 bottles of beer.\n",
      "Take one down and pass it around, 89 bottles of beer on the wall.\n",
      "\n",
      "89 bottles of beer on the wall, 89 bottles of beer.\n",
      "Take one down and pass it around, 88 bottles of beer on the wall.\n",
      "\n",
      "88 bottles of beer on the wall, 88 bottles of beer.\n",
      "Take one down and pass it around, 87 bottles of beer on the wall.\n",
      "\n",
      "87 bottles of beer on the wall, 87 bottles of beer.\n",
      "Take one down and pass it around, 86 bottles of beer on the wall.\n",
      "\n",
      "86 bottles of beer on the wall, 86 bottles of beer.\n",
      "Take one down and pass it around, 85 bottles of beer on the wall.\n",
      "\n",
      "85 bottles of beer on the wall, 85 bottles of beer.\n",
      "Take one down and pass it around, 84 bottles of beer on the wall.\n",
      "\n",
      "84 bottles of beer on the wall, 84 bottles of beer.\n",
      "Take one down and pass it around, 83 bottles of beer on the wall.\n",
      "\n",
      "83 bottles of beer on the wall, 83 bottles of beer.\n",
      "Take one down and pass it around, 82 bottles of beer on the wall.\n",
      "\n",
      "82 bottles of beer on the wall, 82 bottles of beer.\n",
      "Take one down and pass it around, 81 bottles of beer on the wall.\n",
      "\n",
      "81 bottles of beer on the wall, 81 bottles of beer.\n",
      "Take one down and pass it around, 80 bottles of beer on the wall.\n",
      "\n",
      "80 bottles of beer on the wall, 80 bottles of beer.\n",
      "Take one down and pass it around, 79 bottles of beer on the wall.\n",
      "\n",
      "79 bottles of beer on the wall, 79 bottles of beer.\n",
      "Take one down and pass it around, 78 bottles of beer on the wall.\n",
      "\n",
      "78 bottles of beer on the wall, 78 bottles of beer.\n",
      "Take one down and pass it around, 77 bottles of beer on the wall.\n",
      "\n",
      "77 bottles of beer on the wall, 77 bottles of beer.\n",
      "Take one down and pass it around, 76 bottles of beer on the wall.\n",
      "\n",
      "76 bottles of beer on the wall, 76 bottles of beer.\n",
      "Take one down and pass it around, 75 bottles of beer on the wall.\n",
      "\n",
      "75 bottles of beer on the wall, 75 bottles of beer.\n",
      "Take one down and pass it around, 74 bottles of beer on the wall.\n",
      "\n",
      "74 bottles of beer on the wall, 74 bottles of beer.\n",
      "Take one down and pass it around, 73 bottles of beer on the wall.\n",
      "\n",
      "73 bottles of beer on the wall, 73 bottles of beer.\n",
      "Take one down and pass it around, 72 bottles of beer on the wall.\n",
      "\n",
      "72 bottles of beer on the wall, 72 bottles of beer.\n",
      "Take one down and pass it around, 71 bottles of beer on the wall.\n",
      "\n",
      "71 bottles of beer on the wall, 71 bottles of beer.\n",
      "Take one down and pass it around, 70 bottles of beer on the wall.\n",
      "\n",
      "70 bottles of beer on the wall, 70 bottles of beer.\n",
      "Take one down and pass it around, 69 bottles of beer on the wall.\n",
      "\n",
      "69 bottles of beer on the wall, 69 bottles of beer.\n",
      "Take one down and pass it around, 68 bottles of beer on the wall.\n",
      "\n",
      "68 bottles of beer on the wall, 68 bottles of beer.\n",
      "Take one down and pass it around, 67 bottles of beer on the wall.\n",
      "\n",
      "67 bottles of beer on the wall, 67 bottles of beer.\n",
      "Take one down and pass it around, 66 bottles of beer on the wall.\n",
      "\n",
      "66 bottles of beer on the wall, 66 bottles of beer.\n",
      "Take one down and pass it around, 65 bottles of beer on the wall.\n",
      "\n",
      "65 bottles of beer on the wall, 65 bottles of beer.\n",
      "Take one down and pass it around, 64 bottles of beer on the wall.\n",
      "\n",
      "64 bottles of beer on the wall, 64 bottles of beer.\n",
      "Take one down and pass it around, 63 bottles of beer on the wall.\n",
      "\n",
      "63 bottles of beer on the wall, 63 bottles of beer.\n",
      "Take one down and pass it around, 62 bottles of beer on the wall.\n",
      "\n",
      "62 bottles of beer on the wall, 62 bottles of beer.\n",
      "Take one down and pass it around, 61 bottles of beer on the wall.\n",
      "\n",
      "61 bottles of beer on the wall, 61 bottles of beer.\n",
      "Take one down and pass it around, 60 bottles of beer on the wall.\n",
      "\n",
      "60 bottles of beer on the wall, 60 bottles of beer.\n",
      "Take one down and pass it around, 59 bottles of beer on the wall.\n",
      "\n",
      "59 bottles of beer on the wall, 59 bottles of beer.\n",
      "Take one down and pass it around, 58 bottles of beer on the wall.\n",
      "\n",
      "58 bottles of beer on the wall, 58 bottles of beer.\n",
      "Take one down and pass it around, 57 bottles of beer on the wall.\n",
      "\n",
      "57 bottles of beer on the wall, 57 bottles of beer.\n",
      "Take one down and pass it around, 56 bottles of beer on the wall.\n",
      "\n",
      "56 bottles of beer on the wall, 56 bottles of beer.\n",
      "Take one down and pass it around, 55 bottles of beer on the wall.\n",
      "\n",
      "55 bottles of beer on the wall, 55 bottles of beer.\n",
      "Take one down and pass it around, 54 bottles of beer on the wall.\n",
      "\n",
      "54 bottles of beer on the wall, 54 bottles of beer.\n",
      "Take one down and pass it around, 53 bottles of beer on the wall.\n",
      "\n",
      "53 bottles of beer on the wall, 53 bottles of beer.\n",
      "Take one down and pass it around, 52 bottles of beer on the wall.\n",
      "\n",
      "52 bottles of beer on the wall, 52 bottles of beer.\n",
      "Take one down and pass it around, 51 bottles of beer on the wall.\n",
      "\n",
      "51 bottles of beer on the wall, 51 bottles of beer.\n",
      "Take one down and pass it around, 50 bottles of beer on the wall.\n",
      "\n",
      "50 bottles of beer on the wall, 50 bottles of beer.\n",
      "Take one down and pass it around, 49 bottles of beer on the wall.\n",
      "\n",
      "49 bottles of beer on the wall, 49 bottles of beer.\n",
      "Take one down and pass it around, 48 bottles of beer on the wall.\n",
      "\n",
      "48 bottles of beer on the wall, 48 bottles of beer.\n",
      "Take one down and pass it around, 47 bottles of beer on the wall.\n",
      "\n",
      "47 bottles of beer on the wall, 47 bottles of beer.\n",
      "Take one down and pass it around, 46 bottles of beer on the wall.\n",
      "\n",
      "46 bottles of beer on the wall, 46 bottles of beer.\n",
      "Take one down and pass it around, 45 bottles of beer on the wall.\n",
      "\n",
      "45 bottles of beer on the wall, 45 bottles of beer.\n",
      "Take one down and pass it around, 44 bottles of beer on the wall.\n",
      "\n",
      "44 bottles of beer on the wall, 44 bottles of beer.\n",
      "Take one down and pass it around, 43 bottles of beer on the wall.\n",
      "\n",
      "43 bottles of beer on the wall, 43 bottles of beer.\n",
      "Take one down and pass it around, 42 bottles of beer on the wall.\n",
      "\n",
      "42 bottles of beer on the wall, 42 bottles of beer.\n",
      "Take one down and pass it around, 41 bottles of beer on the wall.\n",
      "\n",
      "41 bottles of beer on the wall, 41 bottles of beer.\n",
      "Take one down and pass it around, 40 bottles of beer on the wall.\n",
      "\n",
      "40 bottles of beer on the wall, 40 bottles of beer.\n",
      "Take one down and pass it around, 39 bottles of beer on the wall.\n",
      "\n",
      "39 bottles of beer on the wall, 39 bottles of beer.\n",
      "Take one down and pass it around, 38 bottles of beer on the wall.\n",
      "\n",
      "38 bottles of beer on the wall, 38 bottles of beer.\n",
      "Take one down and pass it around, 37 bottles of beer on the wall.\n",
      "\n",
      "37 bottles of beer on the wall, 37 bottles of beer.\n",
      "Take one down and pass it around, 36 bottles of beer on the wall.\n",
      "\n",
      "36 bottles of beer on the wall, 36 bottles of beer.\n",
      "Take one down and pass it around, 35 bottles of beer on the wall.\n",
      "\n",
      "35 bottles of beer on the wall, 35 bottles of beer.\n",
      "Take one down and pass it around, 34 bottles of beer on the wall.\n",
      "\n",
      "34 bottles of beer on the wall, 34 bottles of beer.\n",
      "Take one down and pass it around, 33 bottles of beer on the wall.\n",
      "\n",
      "33 bottles of beer on the wall, 33 bottles of beer.\n",
      "Take one down and pass it around, 32 bottles of beer on the wall.\n",
      "\n",
      "32 bottles of beer on the wall, 32 bottles of beer.\n",
      "Take one down and pass it around, 31 bottles of beer on the wall.\n",
      "\n",
      "31 bottles of beer on the wall, 31 bottles of beer.\n",
      "Take one down and pass it around, 30 bottles of beer on the wall.\n",
      "\n",
      "30 bottles of beer on the wall, 30 bottles of beer.\n",
      "Take one down and pass it around, 29 bottles of beer on the wall.\n",
      "\n",
      "29 bottles of beer on the wall, 29 bottles of beer.\n",
      "Take one down and pass it around, 28 bottles of beer on the wall.\n",
      "\n",
      "28 bottles of beer on the wall, 28 bottles of beer.\n",
      "Take one down and pass it around, 27 bottles of beer on the wall.\n",
      "\n",
      "27 bottles of beer on the wall, 27 bottles of beer.\n",
      "Take one down and pass it around, 26 bottles of beer on the wall.\n",
      "\n",
      "26 bottles of beer on the wall, 26 bottles of beer.\n",
      "Take one down and pass it around, 25 bottles of beer on the wall.\n",
      "\n",
      "25 bottles of beer on the wall, 25 bottles of beer.\n",
      "Take one down and pass it around, 24 bottles of beer on the wall.\n",
      "\n",
      "24 bottles of beer on the wall, 24 bottles of beer.\n",
      "Take one down and pass it around, 23 bottles of beer on the wall.\n",
      "\n",
      "23 bottles of beer on the wall, 23 bottles of beer.\n",
      "Take one down and pass it around, 22 bottles of beer on the wall.\n",
      "\n",
      "22 bottles of beer on the wall, 22 bottles of beer.\n",
      "Take one down and pass it around, 21 bottles of beer on the wall.\n",
      "\n",
      "21 bottles of beer on the wall, 21 bottles of beer.\n",
      "Take one down and pass it around, 20 bottles of beer on the wall.\n",
      "\n",
      "20 bottles of beer on the wall, 20 bottles of beer.\n",
      "Take one down and pass it around, 19 bottles of beer on the wall.\n",
      "\n",
      "19 bottles of beer on the wall, 19 bottles of beer.\n",
      "Take one down and pass it around, 18 bottles of beer on the wall.\n",
      "\n",
      "18 bottles of beer on the wall, 18 bottles of beer.\n",
      "Take one down and pass it around, 17 bottles of beer on the wall.\n",
      "\n",
      "17 bottles of beer on the wall, 17 bottles of beer.\n",
      "Take one down and pass it around, 16 bottles of beer on the wall.\n",
      "\n",
      "16 bottles of beer on the wall, 16 bottles of beer.\n",
      "Take one down and pass it around, 15 bottles of beer on the wall.\n",
      "\n",
      "15 bottles of beer on the wall, 15 bottles of beer.\n",
      "Take one down and pass it around, 14 bottles of beer on the wall.\n",
      "\n",
      "14 bottles of beer on the wall, 14 bottles of beer.\n",
      "Take one down and pass it around, 13 bottles of beer on the wall.\n",
      "\n",
      "13 bottles of beer on the wall, 13 bottles of beer.\n",
      "Take one down and pass it around, 12 bottles of beer on the wall.\n",
      "\n",
      "12 bottles of beer on the wall, 12 bottles of beer.\n",
      "Take one down and pass it around, 11 bottles of beer on the wall.\n",
      "\n",
      "11 bottles of beer on the wall, 11 bottles of beer.\n",
      "Take one down and pass it around, 10 bottles of beer on the wall.\n",
      "\n",
      "10 bottles of beer on the wall, 10 bottles of beer.\n",
      "Take one down and pass it around, 9 bottles of beer on the wall.\n",
      "\n",
      "9 bottles of beer on the wall, 9 bottles of beer.\n",
      "Take one down and pass it around, 8 bottles of beer on the wall.\n",
      "\n",
      "8 bottles of beer on the wall, 8 bottles of beer.\n",
      "Take one down and pass it around, 7 bottles of beer on the wall.\n",
      "\n",
      "7 bottles of beer on the wall, 7 bottles of beer.\n",
      "Take one down and pass it around, 6 bottles of beer on the wall.\n",
      "\n",
      "6 bottles of beer on the wall, 6 bottles of beer.\n",
      "Take one down and pass it around, 5 bottles of beer on the wall.\n",
      "\n",
      "5 bottles of beer on the wall, 5 bottles of beer.\n",
      "Take one down and pass it around, 4 bottles of beer on the wall.\n",
      "\n",
      "4 bottles of beer on the wall, 4 bottles of beer.\n",
      "Take one down and pass it around, 3 bottles of beer on the wall.\n",
      "\n",
      "3 bottles of beer on the wall, 3 bottles of beer.\n",
      "Take one down and pass it around, 2 bottles of beer on the wall.\n",
      "\n",
      "2 bottles of beer on the wall, 2 bottles of beer.\n",
      "Take one down and pass it around, 1 bottle of beer on the wall.\n",
      "\n",
      "1 bottle of beer on the wall, 1 bottle of beer.\n",
      "Take one down and pass it around, 0 bottles of beer on the wall.\n",
      "\n",
      "No more bottles of beer on the wall, no more bottles of beer.\n",
      "Go to the store and buy some more, 99 bottles of beer on the wall.\n"
     ]
    }
   ],
   "source": [
    "X = \"of beer on the wall, \"\n",
    "Y = \"of beer.\\n\"\n",
    "Z = \"Take one down and pass it around, \"\n",
    "W = \"of beer on the wall.\\n\"\n",
    "M = \"No more bottles of beer on the wall, no more bottles of beer.\\n\"\n",
    "N = \"Go to the store and buy some more, 99 bottles of beer on the wall.\"\n",
    "\n",
    "def bottle_lyrics(n):\n",
    "    if(n==1): #esto se hace ya que cambia de sing/plural en funcion del valor\n",
    "        a=\" bottle \"\n",
    "        b=\" bottles \"\n",
    "    elif(n==2):\n",
    "        a=\" bottles \"\n",
    "        b=\" bottle \"\n",
    "    else:\n",
    "        a=\" bottles \"\n",
    "        b=\" bottles \"\n",
    "    \n",
    "    if (n>0):\n",
    "        print(str(n)+a+X+str(n)+a+Y+Z+str(n-1)+b+W)\n",
    "    elif (n==0):\n",
    "        print(M+N)\n",
    "bottles = 99\n",
    "while bottles>=0:\n",
    "    bottle_lyrics(bottles)\n",
    "    bottles-=1"
   ]
  },
  {
   "cell_type": "markdown",
   "metadata": {},
   "source": [
    "### Step 2. Open file"
   ]
  },
  {
   "cell_type": "code",
   "execution_count": 12,
   "metadata": {},
   "outputs": [],
   "source": [
    "# your code here\n",
    "text = open('/home/ubuntu/prework-datamad-no-solutions/lyrics/songs/99-bottes-of-beer.txt','r')\n",
    "#It has been stored correctly, therefore, if you print;\n",
    "#print (text.read())   #it prints de lyrics of the song from the file\n",
    " "
   ]
  },
  {
   "cell_type": "code",
   "execution_count": 13,
   "metadata": {},
   "outputs": [
    {
     "ename": "NameError",
     "evalue": "name 'bottles_lyrics' is not defined",
     "output_type": "error",
     "traceback": [
      "\u001b[0;31m---------------------------------------------------------------------------\u001b[0m",
      "\u001b[0;31mNameError\u001b[0m                                 Traceback (most recent call last)",
      "\u001b[0;32m<ipython-input-13-0f269d81fe7c>\u001b[0m in \u001b[0;36m<module>\u001b[0;34m\u001b[0m\n\u001b[1;32m      1\u001b[0m \u001b[0;31m# Check\u001b[0m\u001b[0;34m\u001b[0m\u001b[0;34m\u001b[0m\u001b[0;34m\u001b[0m\u001b[0m\n\u001b[0;32m----> 2\u001b[0;31m \u001b[0;32mif\u001b[0m \u001b[0;34m(\u001b[0m\u001b[0mbottles_lyrics\u001b[0m\u001b[0;34m(\u001b[0m\u001b[0;34m)\u001b[0m \u001b[0;34m==\u001b[0m \u001b[0mtext\u001b[0m\u001b[0;34m)\u001b[0m\u001b[0;34m:\u001b[0m\u001b[0;34m\u001b[0m\u001b[0;34m\u001b[0m\u001b[0m\n\u001b[0m\u001b[1;32m      3\u001b[0m     \u001b[0mprint\u001b[0m\u001b[0;34m(\u001b[0m\u001b[0;34m\"True\"\u001b[0m\u001b[0;34m)\u001b[0m\u001b[0;34m\u001b[0m\u001b[0;34m\u001b[0m\u001b[0m\n\u001b[1;32m      4\u001b[0m \u001b[0;32melse\u001b[0m\u001b[0;34m:\u001b[0m\u001b[0;34m\u001b[0m\u001b[0;34m\u001b[0m\u001b[0m\n\u001b[1;32m      5\u001b[0m     \u001b[0mprint\u001b[0m\u001b[0;34m(\u001b[0m\u001b[0;34m\"False\"\u001b[0m\u001b[0;34m)\u001b[0m\u001b[0;34m\u001b[0m\u001b[0;34m\u001b[0m\u001b[0m\n",
      "\u001b[0;31mNameError\u001b[0m: name 'bottles_lyrics' is not defined"
     ]
    }
   ],
   "source": [
    "# Check\n",
    "if (bottles_lyrics() == text):\n",
    "    print(\"True\")\n",
    "else:\n",
    "    print(\"False\")\n",
    "\n"
   ]
  },
  {
   "cell_type": "markdown",
   "metadata": {},
   "source": [
    "**Expected output**:\n",
    "\n",
    "```\n",
    "True\n",
    "```"
   ]
  },
  {
   "cell_type": "markdown",
   "metadata": {},
   "source": [
    "### Step 3: Check code\n",
    "Now I want you to refactor your **bottles_lyrics** function in order to be less than 1000 characters. "
   ]
  },
  {
   "cell_type": "code",
   "execution_count": null,
   "metadata": {},
   "outputs": [],
   "source": [
    "import inspect\n",
    "\n",
    "code = inspect.getsource(bottles_lyrics)"
   ]
  },
  {
   "cell_type": "code",
   "execution_count": null,
   "metadata": {},
   "outputs": [],
   "source": [
    "# check\n",
    "\n",
    "print('Your bottles_lyrics functions has {} characters'.format(len(code)))\n",
    "print(len(code) < 1000)"
   ]
  },
  {
   "cell_type": "markdown",
   "metadata": {},
   "source": [
    "**Expected output**:\n",
    "\n",
    "```\n",
    "Your bottles_lyrics functions has 837 characters\n",
    "True\n",
    "```"
   ]
  },
  {
   "cell_type": "markdown",
   "metadata": {},
   "source": [
    "If you want a real challenge, follow the link below. Sign in and start coding!\n",
    "\n",
    "https://www.codewars.com/kata/baby-shark-lyrics-generator/train/python"
   ]
  }
 ],
 "metadata": {
  "kernelspec": {
   "display_name": "Python 3",
   "language": "python",
   "name": "python3"
  },
  "language_info": {
   "codemirror_mode": {
    "name": "ipython",
    "version": 3
   },
   "file_extension": ".py",
   "mimetype": "text/x-python",
   "name": "python",
   "nbconvert_exporter": "python",
   "pygments_lexer": "ipython3",
   "version": "3.8.5"
  }
 },
 "nbformat": 4,
 "nbformat_minor": 2
}
